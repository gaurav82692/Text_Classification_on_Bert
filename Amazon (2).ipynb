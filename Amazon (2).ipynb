{
  "nbformat": 4,
  "nbformat_minor": 0,
  "metadata": {
    "colab": {
      "name": "Amazon.ipynb",
      "provenance": []
    },
    "kernelspec": {
      "name": "python3",
      "display_name": "Python 3"
    },
    "language_info": {
      "name": "python"
    }
  },
  "cells": [
    {
      "cell_type": "code",
      "metadata": {
        "colab": {
          "base_uri": "https://localhost:8080/"
        },
        "id": "FMLCUmuo_DhU",
        "outputId": "9fa1f016-0330-4f2c-da37-b697654caa85"
      },
      "source": [
        "from google.colab import drive\n",
        "drive.mount('/content/drive')"
      ],
      "execution_count": 4,
      "outputs": [
        {
          "output_type": "stream",
          "text": [
            "Mounted at /content/drive\n"
          ],
          "name": "stdout"
        }
      ]
    },
    {
      "cell_type": "code",
      "metadata": {
        "colab": {
          "base_uri": "https://localhost:8080/"
        },
        "id": "SMLjp36f_M1u",
        "outputId": "0e15ad5a-8170-4581-ed2f-5a29328c9ab8"
      },
      "source": [
        "cd drive/MyDrive/Text classification"
      ],
      "execution_count": 5,
      "outputs": [
        {
          "output_type": "stream",
          "text": [
            "/content/drive/MyDrive/Text classification\n"
          ],
          "name": "stdout"
        }
      ]
    },
    {
      "cell_type": "code",
      "metadata": {
        "id": "eu7Wgoud-bXu"
      },
      "source": [
        "data = pd.read_csv('/content/drive/MyDrive/Text classification/dataset/train.csv')"
      ],
      "execution_count": 109,
      "outputs": []
    },
    {
      "cell_type": "code",
      "metadata": {
        "id": "pcwDwAavSkR0"
      },
      "source": [
        "testdata = pd.read_csv('/content/drive/MyDrive/Text classification/dataset/test.csv')"
      ],
      "execution_count": 110,
      "outputs": []
    },
    {
      "cell_type": "code",
      "metadata": {
        "colab": {
          "base_uri": "https://localhost:8080/",
          "height": 203
        },
        "id": "ngI3wS8c_bqm",
        "outputId": "ad352b63-947a-4f57-e609-4ecd32b5d22a"
      },
      "source": [
        "tdata.head()"
      ],
      "execution_count": 111,
      "outputs": [
        {
          "output_type": "execute_result",
          "data": {
            "text/html": [
              "<div>\n",
              "<style scoped>\n",
              "    .dataframe tbody tr th:only-of-type {\n",
              "        vertical-align: middle;\n",
              "    }\n",
              "\n",
              "    .dataframe tbody tr th {\n",
              "        vertical-align: top;\n",
              "    }\n",
              "\n",
              "    .dataframe thead th {\n",
              "        text-align: right;\n",
              "    }\n",
              "</style>\n",
              "<table border=\"1\" class=\"dataframe\">\n",
              "  <thead>\n",
              "    <tr style=\"text-align: right;\">\n",
              "      <th></th>\n",
              "      <th>description</th>\n",
              "    </tr>\n",
              "  </thead>\n",
              "  <tbody>\n",
              "    <tr>\n",
              "      <th>0</th>\n",
              "      <td>SHANTELL'S CHANNEL - https://www.youtube.com/s...</td>\n",
              "    </tr>\n",
              "    <tr>\n",
              "      <th>1</th>\n",
              "      <td>Balmuda: the Toaster is a Japanese invention t...</td>\n",
              "    </tr>\n",
              "    <tr>\n",
              "      <th>2</th>\n",
              "      <td>These are the molecular machines inside your b...</td>\n",
              "    </tr>\n",
              "    <tr>\n",
              "      <th>3</th>\n",
              "      <td>LeBron James is 'obviously' the NBA MVP this s...</td>\n",
              "    </tr>\n",
              "    <tr>\n",
              "      <th>4</th>\n",
              "      <td>Lol - Subscribe to my new channel that will co...</td>\n",
              "    </tr>\n",
              "  </tbody>\n",
              "</table>\n",
              "</div>"
            ],
            "text/plain": [
              "                                         description\n",
              "0  SHANTELL'S CHANNEL - https://www.youtube.com/s...\n",
              "1  Balmuda: the Toaster is a Japanese invention t...\n",
              "2  These are the molecular machines inside your b...\n",
              "3  LeBron James is 'obviously' the NBA MVP this s...\n",
              "4  Lol - Subscribe to my new channel that will co..."
            ]
          },
          "metadata": {
            "tags": []
          },
          "execution_count": 111
        }
      ]
    },
    {
      "cell_type": "code",
      "metadata": {
        "id": "KhOFDB9Z_Tcp"
      },
      "source": [
        "data = data[['category_id', 'description']]\n",
        "tdata= testdata.copy()\n",
        "tdata = tdata[['description']]"
      ],
      "execution_count": 112,
      "outputs": []
    },
    {
      "cell_type": "code",
      "metadata": {
        "colab": {
          "base_uri": "https://localhost:8080/",
          "height": 417
        },
        "id": "3_34Th5D_lPK",
        "outputId": "f955e42a-77a8-4906-f0c3-f2697bb4698a"
      },
      "source": [
        "data = data.dropna()\n",
        "data"
      ],
      "execution_count": 113,
      "outputs": [
        {
          "output_type": "execute_result",
          "data": {
            "text/html": [
              "<div>\n",
              "<style scoped>\n",
              "    .dataframe tbody tr th:only-of-type {\n",
              "        vertical-align: middle;\n",
              "    }\n",
              "\n",
              "    .dataframe tbody tr th {\n",
              "        vertical-align: top;\n",
              "    }\n",
              "\n",
              "    .dataframe thead th {\n",
              "        text-align: right;\n",
              "    }\n",
              "</style>\n",
              "<table border=\"1\" class=\"dataframe\">\n",
              "  <thead>\n",
              "    <tr style=\"text-align: right;\">\n",
              "      <th></th>\n",
              "      <th>category_id</th>\n",
              "      <th>description</th>\n",
              "    </tr>\n",
              "  </thead>\n",
              "  <tbody>\n",
              "    <tr>\n",
              "      <th>0</th>\n",
              "      <td>10.0</td>\n",
              "      <td>Music video by Luke Bryan performing Out Of No...</td>\n",
              "    </tr>\n",
              "    <tr>\n",
              "      <th>1</th>\n",
              "      <td>24.0</td>\n",
              "      <td>thanks for watching!!! happy holidays everyone...</td>\n",
              "    </tr>\n",
              "    <tr>\n",
              "      <th>2</th>\n",
              "      <td>1.0</td>\n",
              "      <td>Marcus and Adam build their own custom lightsa...</td>\n",
              "    </tr>\n",
              "    <tr>\n",
              "      <th>3</th>\n",
              "      <td>26.0</td>\n",
              "      <td>Make sure you subscribe to my channel and hit ...</td>\n",
              "    </tr>\n",
              "    <tr>\n",
              "      <th>4</th>\n",
              "      <td>24.0</td>\n",
              "      <td>It's a riff-off pitches! Get Tix: http://unvrs...</td>\n",
              "    </tr>\n",
              "    <tr>\n",
              "      <th>...</th>\n",
              "      <td>...</td>\n",
              "      <td>...</td>\n",
              "    </tr>\n",
              "    <tr>\n",
              "      <th>3466</th>\n",
              "      <td>24.0</td>\n",
              "      <td>Subscribe now for more! http://bit.ly/1KyA9sV\\...</td>\n",
              "    </tr>\n",
              "    <tr>\n",
              "      <th>3467</th>\n",
              "      <td>28.0</td>\n",
              "      <td>Get a free audio book by clicking http://www.a...</td>\n",
              "    </tr>\n",
              "    <tr>\n",
              "      <th>3468</th>\n",
              "      <td>10.0</td>\n",
              "      <td>The Official video for Moby's Like A Motherles...</td>\n",
              "    </tr>\n",
              "    <tr>\n",
              "      <th>3469</th>\n",
              "      <td>26.0</td>\n",
              "      <td>Hey Larlees, todays video is a fun collab with...</td>\n",
              "    </tr>\n",
              "    <tr>\n",
              "      <th>3470</th>\n",
              "      <td>22.0</td>\n",
              "      <td>http://billwurtz.com\\n\\n\\n\\npatreon:  http://p...</td>\n",
              "    </tr>\n",
              "  </tbody>\n",
              "</table>\n",
              "<p>3471 rows × 2 columns</p>\n",
              "</div>"
            ],
            "text/plain": [
              "      category_id                                        description\n",
              "0            10.0  Music video by Luke Bryan performing Out Of No...\n",
              "1            24.0  thanks for watching!!! happy holidays everyone...\n",
              "2             1.0  Marcus and Adam build their own custom lightsa...\n",
              "3            26.0  Make sure you subscribe to my channel and hit ...\n",
              "4            24.0  It's a riff-off pitches! Get Tix: http://unvrs...\n",
              "...           ...                                                ...\n",
              "3466         24.0  Subscribe now for more! http://bit.ly/1KyA9sV\\...\n",
              "3467         28.0  Get a free audio book by clicking http://www.a...\n",
              "3468         10.0  The Official video for Moby's Like A Motherles...\n",
              "3469         26.0  Hey Larlees, todays video is a fun collab with...\n",
              "3470         22.0  http://billwurtz.com\\n\\n\\n\\npatreon:  http://p...\n",
              "\n",
              "[3471 rows x 2 columns]"
            ]
          },
          "metadata": {
            "tags": []
          },
          "execution_count": 113
        }
      ]
    },
    {
      "cell_type": "code",
      "metadata": {
        "colab": {
          "base_uri": "https://localhost:8080/",
          "height": 417
        },
        "id": "z-y0R2crTDu3",
        "outputId": "8f5c3bd5-70a6-4e73-aa89-d5f3f01087ab"
      },
      "source": [
        "tdata = tdata.dropna()\n",
        "tdata"
      ],
      "execution_count": 114,
      "outputs": [
        {
          "output_type": "execute_result",
          "data": {
            "text/html": [
              "<div>\n",
              "<style scoped>\n",
              "    .dataframe tbody tr th:only-of-type {\n",
              "        vertical-align: middle;\n",
              "    }\n",
              "\n",
              "    .dataframe tbody tr th {\n",
              "        vertical-align: top;\n",
              "    }\n",
              "\n",
              "    .dataframe thead th {\n",
              "        text-align: right;\n",
              "    }\n",
              "</style>\n",
              "<table border=\"1\" class=\"dataframe\">\n",
              "  <thead>\n",
              "    <tr style=\"text-align: right;\">\n",
              "      <th></th>\n",
              "      <th>description</th>\n",
              "    </tr>\n",
              "  </thead>\n",
              "  <tbody>\n",
              "    <tr>\n",
              "      <th>0</th>\n",
              "      <td>SHANTELL'S CHANNEL - https://www.youtube.com/s...</td>\n",
              "    </tr>\n",
              "    <tr>\n",
              "      <th>1</th>\n",
              "      <td>Balmuda: the Toaster is a Japanese invention t...</td>\n",
              "    </tr>\n",
              "    <tr>\n",
              "      <th>2</th>\n",
              "      <td>These are the molecular machines inside your b...</td>\n",
              "    </tr>\n",
              "    <tr>\n",
              "      <th>3</th>\n",
              "      <td>LeBron James is 'obviously' the NBA MVP this s...</td>\n",
              "    </tr>\n",
              "    <tr>\n",
              "      <th>4</th>\n",
              "      <td>Lol - Subscribe to my new channel that will co...</td>\n",
              "    </tr>\n",
              "    <tr>\n",
              "      <th>...</th>\n",
              "      <td>...</td>\n",
              "    </tr>\n",
              "    <tr>\n",
              "      <th>1483</th>\n",
              "      <td>While loads better than Cars 2, Cars 3 is stil...</td>\n",
              "    </tr>\n",
              "    <tr>\n",
              "      <th>1484</th>\n",
              "      <td>Pond Jump Fail | Subscribe: http://bit.ly/SubT...</td>\n",
              "    </tr>\n",
              "    <tr>\n",
              "      <th>1485</th>\n",
              "      <td>In this episode of Derek Does Stuff with a Fri...</td>\n",
              "    </tr>\n",
              "    <tr>\n",
              "      <th>1486</th>\n",
              "      <td>On Raw's 25th Anniversary, The Deadman emerges...</td>\n",
              "    </tr>\n",
              "    <tr>\n",
              "      <th>1487</th>\n",
              "      <td>James asks Victoria Beckham about a recent pho...</td>\n",
              "    </tr>\n",
              "  </tbody>\n",
              "</table>\n",
              "<p>1488 rows × 1 columns</p>\n",
              "</div>"
            ],
            "text/plain": [
              "                                            description\n",
              "0     SHANTELL'S CHANNEL - https://www.youtube.com/s...\n",
              "1     Balmuda: the Toaster is a Japanese invention t...\n",
              "2     These are the molecular machines inside your b...\n",
              "3     LeBron James is 'obviously' the NBA MVP this s...\n",
              "4     Lol - Subscribe to my new channel that will co...\n",
              "...                                                 ...\n",
              "1483  While loads better than Cars 2, Cars 3 is stil...\n",
              "1484  Pond Jump Fail | Subscribe: http://bit.ly/SubT...\n",
              "1485  In this episode of Derek Does Stuff with a Fri...\n",
              "1486  On Raw's 25th Anniversary, The Deadman emerges...\n",
              "1487  James asks Victoria Beckham about a recent pho...\n",
              "\n",
              "[1488 rows x 1 columns]"
            ]
          },
          "metadata": {
            "tags": []
          },
          "execution_count": 114
        }
      ]
    },
    {
      "cell_type": "code",
      "metadata": {
        "colab": {
          "base_uri": "https://localhost:8080/"
        },
        "id": "sTZQKSwjFwdr",
        "outputId": "7018d59e-9d6b-46dd-9831-015bd584eb69"
      },
      "source": [
        "import pandas as pd\n",
        "import numpy as np # linear algebra\n",
        "import seaborn as sns\n",
        "import matplotlib.pyplot as plt\n",
        "import base64\n",
        "import string\n",
        "import re\n",
        "from collections import Counter\n",
        "from nltk.corpus import stopwords\n",
        "import nltk\n",
        "nltk.download('stopwords')\n",
        "stopwords = stopwords.words('english')"
      ],
      "execution_count": 115,
      "outputs": [
        {
          "output_type": "stream",
          "text": [
            "[nltk_data] Downloading package stopwords to /root/nltk_data...\n",
            "[nltk_data]   Package stopwords is already up-to-date!\n"
          ],
          "name": "stdout"
        }
      ]
    },
    {
      "cell_type": "code",
      "metadata": {
        "colab": {
          "base_uri": "https://localhost:8080/",
          "height": 203
        },
        "id": "i0lPCu12LLDZ",
        "outputId": "27345457-469b-43d6-b2d6-b485bd068afb"
      },
      "source": [
        "data.head()"
      ],
      "execution_count": 116,
      "outputs": [
        {
          "output_type": "execute_result",
          "data": {
            "text/html": [
              "<div>\n",
              "<style scoped>\n",
              "    .dataframe tbody tr th:only-of-type {\n",
              "        vertical-align: middle;\n",
              "    }\n",
              "\n",
              "    .dataframe tbody tr th {\n",
              "        vertical-align: top;\n",
              "    }\n",
              "\n",
              "    .dataframe thead th {\n",
              "        text-align: right;\n",
              "    }\n",
              "</style>\n",
              "<table border=\"1\" class=\"dataframe\">\n",
              "  <thead>\n",
              "    <tr style=\"text-align: right;\">\n",
              "      <th></th>\n",
              "      <th>category_id</th>\n",
              "      <th>description</th>\n",
              "    </tr>\n",
              "  </thead>\n",
              "  <tbody>\n",
              "    <tr>\n",
              "      <th>0</th>\n",
              "      <td>10.0</td>\n",
              "      <td>Music video by Luke Bryan performing Out Of No...</td>\n",
              "    </tr>\n",
              "    <tr>\n",
              "      <th>1</th>\n",
              "      <td>24.0</td>\n",
              "      <td>thanks for watching!!! happy holidays everyone...</td>\n",
              "    </tr>\n",
              "    <tr>\n",
              "      <th>2</th>\n",
              "      <td>1.0</td>\n",
              "      <td>Marcus and Adam build their own custom lightsa...</td>\n",
              "    </tr>\n",
              "    <tr>\n",
              "      <th>3</th>\n",
              "      <td>26.0</td>\n",
              "      <td>Make sure you subscribe to my channel and hit ...</td>\n",
              "    </tr>\n",
              "    <tr>\n",
              "      <th>4</th>\n",
              "      <td>24.0</td>\n",
              "      <td>It's a riff-off pitches! Get Tix: http://unvrs...</td>\n",
              "    </tr>\n",
              "  </tbody>\n",
              "</table>\n",
              "</div>"
            ],
            "text/plain": [
              "   category_id                                        description\n",
              "0         10.0  Music video by Luke Bryan performing Out Of No...\n",
              "1         24.0  thanks for watching!!! happy holidays everyone...\n",
              "2          1.0  Marcus and Adam build their own custom lightsa...\n",
              "3         26.0  Make sure you subscribe to my channel and hit ...\n",
              "4         24.0  It's a riff-off pitches! Get Tix: http://unvrs..."
            ]
          },
          "metadata": {
            "tags": []
          },
          "execution_count": 116
        }
      ]
    },
    {
      "cell_type": "code",
      "metadata": {
        "colab": {
          "base_uri": "https://localhost:8080/"
        },
        "id": "NHhxbknxLj9Q",
        "outputId": "ee2ae9fe-5dab-43ce-a21a-4a4afc6aafe3"
      },
      "source": [
        "data['category_id'].nunique()"
      ],
      "execution_count": 117,
      "outputs": [
        {
          "output_type": "execute_result",
          "data": {
            "text/plain": [
              "16"
            ]
          },
          "metadata": {
            "tags": []
          },
          "execution_count": 117
        }
      ]
    },
    {
      "cell_type": "code",
      "metadata": {
        "id": "YD3znjXGL1s5"
      },
      "source": [
        "from sklearn.model_selection import train_test_split\n",
        "train, test = train_test_split(data, test_size=0.33, random_state=42)"
      ],
      "execution_count": 118,
      "outputs": []
    },
    {
      "cell_type": "code",
      "metadata": {
        "colab": {
          "base_uri": "https://localhost:8080/"
        },
        "id": "U1PSYsT4L7fl",
        "outputId": "06e19607-5cf6-4c20-b081-08d8c7ceae26"
      },
      "source": [
        "print('Research title sample:', train['description'].iloc[0])\n",
        "print('Conference of this paper:', train['category_id'].iloc[0])\n",
        "print('Training Data Shape:', train.shape)\n",
        "print('Testing Data Shape:', test.shape)"
      ],
      "execution_count": 119,
      "outputs": [
        {
          "output_type": "stream",
          "text": [
            "Research title sample: Miley Cyrus joins Ashland Craft, Brooke Simpson and Janice Freeman to sing Man! I Feel Like a Woman by Shania Twain during the live Top 11 eliminations.\\n» Get The Voice Official App: http://bit.ly/TheVoiceOfficialApp\\n» Subscribe for More: http://bit.ly/TheVoiceSub\\n» Watch The Voice Mondays & Tuesdays 8/7c on NBC!\\n» Watch Full Episodes: http://bit.ly/TheVoiceFullEpisodes\\n\\nTHE VOICE ON SOCIAL:\\nLike The Voice: http://Facebook.com/NBCTheVoice\\nFollow The Voice: https://Twitter.com/NBCTheVoice\\nThe Voice Tumblr: http://nbcTheVoice.Tumblr.com/\\nFollow The Voice on Instagram: https://instagram.com/nbcthevoice/\\n\\nNBC’s The Voice follows the strongest vocalists from across the country and invites them to compete in this season's blockbuster vocal competition.\\n\\nFind The Voice trailers, full episode highlights, previews, promos, clips, and digital exclusives here.\\n\\nNBC ON SOCIAL:\\nNBC YouTube: http://www.youtube.com/nbc\\nLike NBC: http://Facebook.com/NBC\\nFollow NBC: http://Twitter.com/NBC\\nNBC Tumblr: http://nbctv.tumblr.com/\\nNBC Google+: https://plus.google.com/+NBC/posts\\nNBC Instagram: http://instagram.com/nbc\\n\\nABOUT THE VOICE\\nThe Voice 2017 USA YouTube channel features exclusive content with The Voice coaches, highlights from The Voice auditions, interviews with The Voice winners, as well as The Voice recaps and results. Learn more about The Voice contestants, The Voice tour, the eliminations, and follow your favorite performers all the way to the finale. In season 13, Jennifer Hudson joins returning coaches Adam Levine, Blake Shelton, and welcomes back Miley Cyrus as celebrity musician coaches, while Carson Daly continues to serve as host. The show’s innovative format features five stages of competition: the first begins with the blind auditions, followed by the battle rounds, the knockouts, the live playoffs and finally, the live performance shows.\\n\\nThe Voice 2017 - Team Miley: Man! I Feel Like a Woman\\nhttps://youtu.be/pJ96Z2PPKI8\\n\\nThe Voice\\nhttp://www.youtube.com/user/nbcthevoice\n",
            "Conference of this paper: 24.0\n",
            "Training Data Shape: (2325, 2)\n",
            "Testing Data Shape: (1146, 2)\n"
          ],
          "name": "stdout"
        }
      ]
    },
    {
      "cell_type": "code",
      "metadata": {
        "colab": {
          "base_uri": "https://localhost:8080/",
          "height": 265
        },
        "id": "vFlzUQMaMA1L",
        "outputId": "6f4a440c-7b97-40b4-b70f-23e4435e8a95"
      },
      "source": [
        "\n",
        "fig = plt.figure(figsize=(8,4))\n",
        "sns.barplot(x = train['category_id'].unique(), y=train['category_id'].value_counts())\n",
        "plt.show()"
      ],
      "execution_count": 120,
      "outputs": [
        {
          "output_type": "display_data",
          "data": {
            "image/png": "[encoded data removed]",
            "text/plain": [
              "<Figure size 576x288 with 1 Axes>"
            ]
          },
          "metadata": {
            "tags": [],
            "needs_background": "light"
          }
        }
      ]
    },
    {
      "cell_type": "code",
      "metadata": {
        "id": "rFSha0DRMUQW"
      },
      "source": [
        "import spacy\n",
        "\n",
        "nlp = spacy.load('en_core_web_sm')\n",
        "punctuations = string.punctuation\n",
        "\n",
        "# Define function to cleanup text by removing personal pronouns, stopwords, and puncuation\n",
        "def cleanup_text(docs, logging=False):\n",
        "    texts = []\n",
        "    counter = 1\n",
        "    for doc in docs:\n",
        "        if counter % 1000 == 0 and logging:\n",
        "            print(\"Processed %d out of %d documents.\" % (counter, len(docs)))\n",
        "        counter += 1\n",
        "        doc = nlp(doc, disable=['parser', 'ner'])\n",
        "        tokens = [tok.lemma_.lower().strip() for tok in doc if tok.lemma_ != '-PRON-']\n",
        "        tokens = [tok for tok in tokens if tok not in stopwords and tok not in punctuations]\n",
        "        tokens = ' '.join(tokens)\n",
        "        texts.append(tokens)\n",
        "    return pd.Series(texts)"
      ],
      "execution_count": 121,
      "outputs": []
    },
    {
      "cell_type": "code",
      "metadata": {
        "id": "OzsUqpbyNn5B"
      },
      "source": [
        "from sklearn.feature_extraction.text import CountVectorizer\n",
        "from sklearn.base import TransformerMixin\n",
        "from sklearn.pipeline import Pipeline\n",
        "from sklearn.svm import LinearSVC\n",
        "from sklearn.feature_extraction.stop_words import ENGLISH_STOP_WORDS\n",
        "from sklearn.metrics import accuracy_score\n",
        "from nltk.corpus import stopwords\n",
        "import string\n",
        "import re\n",
        "import spacy\n",
        "spacy.load('en')\n",
        "from spacy.lang.en import English\n",
        "parser = English()"
      ],
      "execution_count": 122,
      "outputs": []
    },
    {
      "cell_type": "code",
      "metadata": {
        "id": "L0A4btCVN6WF"
      },
      "source": [
        "STOPLIST = set(stopwords.words('english') + list(ENGLISH_STOP_WORDS))\n",
        "SYMBOLS = \" \".join(string.punctuation).split(\" \") + [\"-\", \"...\", \"”\", \"”\"]"
      ],
      "execution_count": 123,
      "outputs": []
    },
    {
      "cell_type": "code",
      "metadata": {
        "id": "Q-Qn-WeQN_yT"
      },
      "source": [
        "class CleanTextTransformer(TransformerMixin):\n",
        "    def transform(self, X, **transform_params):\n",
        "        return [cleanText(text) for text in X]\n",
        "    def fit(self, X, y=None, **fit_params):\n",
        "        return self\n",
        "    def get_params(self, deep=True):\n",
        "        return {}\n",
        "    \n",
        "def cleanText(text):\n",
        "    text = text.strip().replace(\"\\n\", \" \").replace(\"\\r\", \" \")\n",
        "    text = text.lower()\n",
        "    return text\n",
        "\n",
        "def tokenizeText(sample):\n",
        "    tokens = parser(sample)\n",
        "    lemmas = []\n",
        "    for tok in tokens:\n",
        "        lemmas.append(tok.lemma_.lower().strip() if tok.lemma_ != \"-PRON-\" else tok.lower_)\n",
        "    tokens = lemmas\n",
        "    tokens = [tok for tok in tokens if tok not in STOPLIST]\n",
        "    tokens = [tok for tok in tokens if tok not in SYMBOLS]\n",
        "    return tokens"
      ],
      "execution_count": 124,
      "outputs": []
    },
    {
      "cell_type": "code",
      "metadata": {
        "colab": {
          "base_uri": "https://localhost:8080/"
        },
        "id": "dWEcrtJzOEja",
        "outputId": "cabff598-8162-4421-b9e6-4a510321c9a2"
      },
      "source": [
        "vectorizer = CountVectorizer(tokenizer=tokenizeText, ngram_range=(1,1))\n",
        "clf = LinearSVC()\n",
        "pipe = Pipeline([('cleanText', CleanTextTransformer()), ('vectorizer', vectorizer), ('clf', clf)])\n",
        "\n",
        "# data\n",
        "train1 = train['description'].tolist()\n",
        "labelsTrain1 = train['category_id'].tolist()\n",
        "\n",
        "test1 = test['description'].tolist()\n",
        "labelsTest1 = test['category_id'].tolist()\n",
        "\n",
        "\n",
        "# train\n",
        "pipe.fit(train1, labelsTrain1)\n",
        "\n",
        "# test\n",
        "preds = pipe.predict(test1)\n",
        "print(preds)\n",
        "print(\"accuracy:\", accuracy_score(labelsTest1, preds))"
      ],
      "execution_count": 125,
      "outputs": [
        {
          "output_type": "stream",
          "text": [
            "/usr/local/lib/python3.7/dist-packages/sklearn/svm/_base.py:947: ConvergenceWarning: Liblinear failed to converge, increase the number of iterations.\n",
            "  \"the number of iterations.\", ConvergenceWarning)\n"
          ],
          "name": "stderr"
        },
        {
          "output_type": "stream",
          "text": [
            "[25. 24. 24. ... 10. 24. 23.]\n",
            "accuracy: 0.7853403141361257\n"
          ],
          "name": "stdout"
        }
      ]
    },
    {
      "cell_type": "code",
      "metadata": {
        "colab": {
          "base_uri": "https://localhost:8080/"
        },
        "id": "QCPom7CTO4cM",
        "outputId": "0a20f4ed-df05-4962-bd33-f72eff57de82"
      },
      "source": [
        "from sklearn.metrics import f1_score\n",
        "f1 = f1_score(labelsTest1, preds,average='weighted')\n",
        "f1"
      ],
      "execution_count": 126,
      "outputs": [
        {
          "output_type": "execute_result",
          "data": {
            "text/plain": [
              "0.7862106833903395"
            ]
          },
          "metadata": {
            "tags": []
          },
          "execution_count": 126
        }
      ]
    },
    {
      "cell_type": "code",
      "metadata": {
        "colab": {
          "base_uri": "https://localhost:8080/"
        },
        "id": "_WDOUAdaQFIq",
        "outputId": "77550e83-ac24-407d-a7c0-981847e225b9"
      },
      "source": [
        "test2 = tdata['description'].tolist()\n",
        "preds2 = pipe.predict(test2)\n",
        "print(preds2)\n"
      ],
      "execution_count": 127,
      "outputs": [
        {
          "output_type": "stream",
          "text": [
            "[22. 19. 27. ... 24. 17. 24.]\n"
          ],
          "name": "stdout"
        }
      ]
    },
    {
      "cell_type": "code",
      "metadata": {
        "id": "wuWbl2-HT35j"
      },
      "source": [
        "testdata['catageory_id']=pd.Series(preds2, index=testdata.index)"
      ],
      "execution_count": 128,
      "outputs": []
    },
    {
      "cell_type": "code",
      "metadata": {
        "colab": {
          "base_uri": "https://localhost:8080/",
          "height": 417
        },
        "id": "JYqbbCMffZqD",
        "outputId": "f4e847f5-42e9-43e1-97ce-1587b8272133"
      },
      "source": [
        "testdata.drop(['description'], axis=1)"
      ],
      "execution_count": 131,
      "outputs": [
        {
          "output_type": "execute_result",
          "data": {
            "text/html": [
              "<div>\n",
              "<style scoped>\n",
              "    .dataframe tbody tr th:only-of-type {\n",
              "        vertical-align: middle;\n",
              "    }\n",
              "\n",
              "    .dataframe tbody tr th {\n",
              "        vertical-align: top;\n",
              "    }\n",
              "\n",
              "    .dataframe thead th {\n",
              "        text-align: right;\n",
              "    }\n",
              "</style>\n",
              "<table border=\"1\" class=\"dataframe\">\n",
              "  <thead>\n",
              "    <tr style=\"text-align: right;\">\n",
              "      <th></th>\n",
              "      <th>video_id</th>\n",
              "      <th>catageory_id</th>\n",
              "    </tr>\n",
              "  </thead>\n",
              "  <tbody>\n",
              "    <tr>\n",
              "      <th>0</th>\n",
              "      <td>2kyS6SvSYSE</td>\n",
              "      <td>22.0</td>\n",
              "    </tr>\n",
              "    <tr>\n",
              "      <th>1</th>\n",
              "      <td>_6lGaYh71g4</td>\n",
              "      <td>19.0</td>\n",
              "    </tr>\n",
              "    <tr>\n",
              "      <th>2</th>\n",
              "      <td>X_tYrnv_o6A</td>\n",
              "      <td>27.0</td>\n",
              "    </tr>\n",
              "    <tr>\n",
              "      <th>3</th>\n",
              "      <td>BEcs3TL8DII</td>\n",
              "      <td>17.0</td>\n",
              "    </tr>\n",
              "    <tr>\n",
              "      <th>4</th>\n",
              "      <td>26qOMpjicGs</td>\n",
              "      <td>24.0</td>\n",
              "    </tr>\n",
              "    <tr>\n",
              "      <th>...</th>\n",
              "      <td>...</td>\n",
              "      <td>...</td>\n",
              "    </tr>\n",
              "    <tr>\n",
              "      <th>1483</th>\n",
              "      <td>2Nlo2ekTRvI</td>\n",
              "      <td>1.0</td>\n",
              "    </tr>\n",
              "    <tr>\n",
              "      <th>1484</th>\n",
              "      <td>tUbky9YzPZY</td>\n",
              "      <td>24.0</td>\n",
              "    </tr>\n",
              "    <tr>\n",
              "      <th>1485</th>\n",
              "      <td>I6N-XuYllgA</td>\n",
              "      <td>24.0</td>\n",
              "    </tr>\n",
              "    <tr>\n",
              "      <th>1486</th>\n",
              "      <td>phCIKfJY7SU</td>\n",
              "      <td>17.0</td>\n",
              "    </tr>\n",
              "    <tr>\n",
              "      <th>1487</th>\n",
              "      <td>QBzQeyHh0i8</td>\n",
              "      <td>24.0</td>\n",
              "    </tr>\n",
              "  </tbody>\n",
              "</table>\n",
              "<p>1488 rows × 2 columns</p>\n",
              "</div>"
            ],
            "text/plain": [
              "         video_id  catageory_id\n",
              "0     2kyS6SvSYSE          22.0\n",
              "1     _6lGaYh71g4          19.0\n",
              "2     X_tYrnv_o6A          27.0\n",
              "3     BEcs3TL8DII          17.0\n",
              "4     26qOMpjicGs          24.0\n",
              "...           ...           ...\n",
              "1483  2Nlo2ekTRvI           1.0\n",
              "1484  tUbky9YzPZY          24.0\n",
              "1485  I6N-XuYllgA          24.0\n",
              "1486  phCIKfJY7SU          17.0\n",
              "1487  QBzQeyHh0i8          24.0\n",
              "\n",
              "[1488 rows x 2 columns]"
            ]
          },
          "metadata": {
            "tags": []
          },
          "execution_count": 131
        }
      ]
    },
    {
      "cell_type": "code",
      "metadata": {
        "id": "gqeU8f5-fb53"
      },
      "source": [
        "testdata.to_csv('submission.csv',index=False)"
      ],
      "execution_count": 133,
      "outputs": []
    },
    {
      "cell_type": "code",
      "metadata": {
        "colab": {
          "base_uri": "https://localhost:8080/"
        },
        "id": "GTXyVO9mfvgv",
        "outputId": "ca52c02b-dac5-4413-94e2-4e8cff234c80"
      },
      "source": [
        "ls"
      ],
      "execution_count": 134,
      "outputs": [
        {
          "output_type": "stream",
          "text": [
            "76c6610ac8e711eb.zip  dbert_label.pkl  dbert_model.h5  tokenization.py\n",
            "\u001b[0m\u001b[01;34mdataset\u001b[0m/              dbert_mask.pkl   \u001b[01;34m__pycache__\u001b[0m/\n",
            "dbert_inp.pkl         \u001b[01;34mdbert_model\u001b[0m/     submission.csv\n"
          ],
          "name": "stdout"
        }
      ]
    },
    {
      "cell_type": "code",
      "metadata": {
        "id": "oSALutEzf1j3"
      },
      "source": [
        ""
      ],
      "execution_count": null,
      "outputs": []
    },
    {
      "cell_type": "code",
      "metadata": {
        "id": "9XTsklYMoctp"
      },
      "source": [
        ""
      ],
      "execution_count": null,
      "outputs": []
    },
    {
      "cell_type": "code",
      "metadata": {
        "id": "lZwlOAzhocxQ"
      },
      "source": [
        ""
      ],
      "execution_count": null,
      "outputs": []
    },
    {
      "cell_type": "code",
      "metadata": {
        "id": "NxhYaD5-oc0j"
      },
      "source": [
        "from xgboost import XGBClassifier"
      ],
      "execution_count": 135,
      "outputs": []
    },
    {
      "cell_type": "code",
      "metadata": {
        "id": "gf7iycEnodhP"
      },
      "source": [
        "\n",
        "clf2 = XGBClassifier()"
      ],
      "execution_count": 137,
      "outputs": []
    },
    {
      "cell_type": "code",
      "metadata": {
        "colab": {
          "base_uri": "https://localhost:8080/"
        },
        "id": "wxPIMc0BojO_",
        "outputId": "144c40d4-3853-4d88-cfbc-b4e439da141e"
      },
      "source": [
        "pipe = Pipeline([('cleanText', CleanTextTransformer()), ('vectorizer', vectorizer), ('clf2', clf2)])\n",
        "\n",
        "# data\n",
        "train3 = train['description'].tolist()\n",
        "labelsTrain3 = train['category_id'].tolist()\n",
        "\n",
        "test3 = test['description'].tolist()\n",
        "labelsTest3 = test['category_id'].tolist()\n",
        "\n",
        "\n",
        "# train\n",
        "pipe.fit(train3, labelsTrain3)\n",
        "\n",
        "# test\n",
        "preds3 = pipe.predict(test3)\n",
        "print(preds3)\n",
        "print(\"accuracy:\", accuracy_score(labelsTest3, preds3))\n"
      ],
      "execution_count": 141,
      "outputs": [
        {
          "output_type": "stream",
          "text": [
            "[27. 24. 24. ... 10. 24. 23.]\n",
            "accuracy: 0.6719022687609075\n"
          ],
          "name": "stdout"
        }
      ]
    },
    {
      "cell_type": "markdown",
      "metadata": {
        "id": "qk8evMaDp5RN"
      },
      "source": [
        ""
      ]
    },
    {
      "cell_type": "code",
      "metadata": {
        "colab": {
          "base_uri": "https://localhost:8080/"
        },
        "id": "QZA3u9GZpBEr",
        "outputId": "9e78c3b6-2b6d-48ce-d96a-449a158e0931"
      },
      "source": [
        ""
      ],
      "execution_count": 140,
      "outputs": [
        {
          "output_type": "stream",
          "text": [
            "[27. 24. 24. ... 10. 24. 23.]\n",
            "accuracy: 0.6719022687609075\n"
          ],
          "name": "stdout"
        }
      ]
    },
    {
      "cell_type": "code",
      "metadata": {
        "id": "g1BF9oQBpY6X"
      },
      "source": [
        ""
      ],
      "execution_count": null,
      "outputs": []
    }
  ]
}